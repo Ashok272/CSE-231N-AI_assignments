{
 "cells": [
  {
   "cell_type": "markdown",
   "metadata": {},
   "source": [
    "# K-means Clustering\n",
    "\n",
    "#### To classify News articles as belonging to 5 categories (binary classification)\n",
    "\n",
    "Any editing needs to be done only in the cells marked with \"Tune hyperparameters here\"\n",
    "\n",
    "\n",
    "\n",
    "\n",
    "Useful notebook shortcuts:\n",
    "\n",
    "Ctrl+Enter -> Run current cell\n",
    "\n",
    "Shift+Enter -> Run current cell and go to next cell\n",
    "\n",
    "Alt+Enter -> Run current cell and add new cell below"
   ]
  },
  {
   "cell_type": "code",
   "execution_count": 1,
   "metadata": {},
   "outputs": [],
   "source": [
    "%load_ext autoreload\n",
    "%autoreload 2\n",
    "\n",
    "import numpy as np\n",
    "#from model import *\n",
    "from feature import *\n",
    "#from utils import *"
   ]
  },
  {
   "cell_type": "markdown",
   "metadata": {},
   "source": [
    "### Load the training data"
   ]
  },
  {
   "cell_type": "code",
   "execution_count": 2,
   "metadata": {},
   "outputs": [],
   "source": [
    "# Change the path to the training data directory\n",
    "data = readfiles1('joined')"
   ]
  },
  {
   "cell_type": "code",
   "execution_count": 3,
   "metadata": {},
   "outputs": [],
   "source": [
    "# Initialize the model and preprocess\n",
    "bow = BagOfWordsFeatureExtractor()\n",
    "bow.preprocess(data)"
   ]
  },
  {
   "cell_type": "code",
   "execution_count": 4,
   "metadata": {},
   "outputs": [],
   "source": [
    "# Extract fetures and create a numpy array of features\n",
    "X_data_bow = bow.extract(data)"
   ]
  },
  {
   "cell_type": "code",
   "execution_count": 5,
   "metadata": {},
   "outputs": [],
   "source": [
    "from model import *\n",
    "\n",
    "model1 = Kmeans()\n",
    "#model1.train(X_train_bow, Y_train_bow, lr, reg_const)\n",
    "labels = model1.cluster(X_data_bow, k=5, n_iter=25)"
   ]
  },
  {
   "cell_type": "markdown",
   "metadata": {},
   "source": [
    "### Final Output Labels for above model get recorded\n",
    "\n",
    "These labels will be your submission."
   ]
  },
  {
   "cell_type": "code",
   "execution_count": 6,
   "metadata": {},
   "outputs": [
    {
     "name": "stdout",
     "output_type": "stream",
     "text": [
      "[3. 4. 4. ... 3. 4. 3.]\n"
     ]
    }
   ],
   "source": [
    "import pickle\n",
    "with open('submission.pickle','wb') as h:\n",
    "    pickle.dump(labels,h)\n",
    "count0=0\n",
    "count1=0\n",
    "count2=0\n",
    "count3=0\n",
    "count4=0\n",
    "for label in labels:\n",
    "    if label == 0.0:\n",
    "        count0+=1\n",
    "    if label == 1.0:\n",
    "        count1+=1\n",
    "    if label == 2.0:\n",
    "        count2+=1\n",
    "    if label == 3.0:\n",
    "        count3+=1\n",
    "    if label == 4.0:\n",
    "        count4+=1\n",
    "print(labels)"
   ]
  },
  {
   "cell_type": "code",
   "execution_count": 7,
   "metadata": {},
   "outputs": [
    {
     "name": "stdout",
     "output_type": "stream",
     "text": [
      "34\n",
      "2\n",
      "38\n",
      "1576\n",
      "850\n"
     ]
    }
   ],
   "source": [
    "print(count0)\n",
    "print(count1)\n",
    "print(count2)\n",
    "print(count3)\n",
    "print(count4)"
   ]
  },
  {
   "cell_type": "markdown",
   "metadata": {},
   "source": [
    "Using tf-idf features"
   ]
  },
  {
   "cell_type": "code",
   "execution_count": 8,
   "metadata": {},
   "outputs": [],
   "source": [
    "# Initialize the model and preprocess\n",
    "tfidf = TfIdfFeatureExtractor()\n",
    "tfidf.preprocess(data)"
   ]
  },
  {
   "cell_type": "code",
   "execution_count": 13,
   "metadata": {},
   "outputs": [],
   "source": [
    "# Extract fetures and create a numpy array of features\n",
    "X_data_tfidf = tfidf.extract(data)"
   ]
  },
  {
   "cell_type": "code",
   "execution_count": 35,
   "metadata": {},
   "outputs": [],
   "source": [
    "model2 = Kmeans()\n",
    "labels = model2.cluster(X_data_tfidf, k = 5, n_iter=25)"
   ]
  },
  {
   "cell_type": "code",
   "execution_count": 36,
   "metadata": {},
   "outputs": [
    {
     "name": "stdout",
     "output_type": "stream",
     "text": [
      "[3. 0. 0. ... 4. 0. 4.]\n"
     ]
    }
   ],
   "source": [
    "import pickle\n",
    "with open('submission.pickle','wb') as h:\n",
    "    pickle.dump(labels,h)\n",
    "count0=0\n",
    "count1=0\n",
    "count2=0\n",
    "count3=0\n",
    "count4=0\n",
    "for label in labels:\n",
    "    if label == 0.0:\n",
    "        count0+=1\n",
    "    if label == 1.0:\n",
    "        count1+=1\n",
    "    if label == 2.0:\n",
    "        count2+=1\n",
    "    if label == 3.0:\n",
    "        count3+=1\n",
    "    if label == 4.0:\n",
    "        count4+=1\n",
    "print(labels)"
   ]
  },
  {
   "cell_type": "code",
   "execution_count": 37,
   "metadata": {},
   "outputs": [
    {
     "name": "stdout",
     "output_type": "stream",
     "text": [
      "953\n",
      "2\n",
      "42\n",
      "1\n",
      "1502\n"
     ]
    }
   ],
   "source": [
    "print(count0)\n",
    "print(count1)\n",
    "print(count2)\n",
    "print(count3)\n",
    "print(count4)"
   ]
  }
 ],
 "metadata": {
  "kernelspec": {
   "display_name": "Python 3",
   "language": "python",
   "name": "python3"
  },
  "language_info": {
   "codemirror_mode": {
    "name": "ipython",
    "version": 3
   },
   "file_extension": ".py",
   "mimetype": "text/x-python",
   "name": "python",
   "nbconvert_exporter": "python",
   "pygments_lexer": "ipython3",
   "version": "3.6.4"
  }
 },
 "nbformat": 4,
 "nbformat_minor": 2
}
